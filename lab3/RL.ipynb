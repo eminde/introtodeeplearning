{
  "nbformat": 4,
  "nbformat_minor": 0,
  "metadata": {
    "colab": {
      "name": "RL.ipynb",
      "provenance": [],
      "collapsed_sections": [
        "jrI6q7RmWQam"
      ],
      "toc_visible": true
    },
    "kernelspec": {
      "name": "python3",
      "display_name": "Python 3"
    },
    "accelerator": "GPU"
  },
  "cells": [
    {
      "cell_type": "markdown",
      "metadata": {
        "id": "jrI6q7RmWQam",
        "colab_type": "text"
      },
      "source": [
        "<table align=\"center\">\n",
        "  <td align=\"center\"><a target=\"_blank\" href=\"http://introtodeeplearning.com\">\n",
        "        <img src=\"http://introtodeeplearning.com/images/colab/mit.png\" style=\"padding-bottom:5px;\" />\n",
        "      Visit MIT Deep Learning</a></td>\n",
        "  <td align=\"center\"><a target=\"_blank\" href=\"https://colab.research.google.com/github/eminde/introtodeeplearning/blob/master/lab3/RL.ipynb\">\n",
        "        <img src=\"http://introtodeeplearning.com/images/colab/colab.png?v2.0\"  style=\"padding-bottom:5px;\" />Run in Google Colab</a></td>\n",
        "  <td align=\"center\"><a target=\"_blank\" href=\"https://github.com/aamini/introtodeeplearning/blob/master/lab3/RL.ipynb\">\n",
        "        <img src=\"http://introtodeeplearning.com/images/colab/github.png\"  height=\"70px\" style=\"padding-bottom:5px;\"  />View Source on GitHub</a></td>\n",
        "</table>\n",
        "\n",
        "# Copyright Information"
      ]
    },
    {
      "cell_type": "code",
      "metadata": {
        "id": "wkd375upWYok",
        "colab_type": "code",
        "colab": {}
      },
      "source": [
        "# Copyright 2020 MIT 6.S191 Introduction to Deep Learning. All Rights Reserved.\n",
        "# \n",
        "# Licensed under the MIT License. You may not use this file except in compliance\n",
        "# with the License. Use and/or modification of this code outside of 6.S191 must\n",
        "# reference:\n",
        "#\n",
        "# © MIT 6.S191: Introduction to Deep Learning\n",
        "# http://introtodeeplearning.com\n",
        "#"
      ],
      "execution_count": null,
      "outputs": []
    },
    {
      "cell_type": "markdown",
      "metadata": {
        "id": "WoXYKhfZMHiw",
        "colab_type": "text"
      },
      "source": [
        "# Laboratory 3: Reinforcement Learning\n",
        "\n",
        "Reinforcement learning (RL) is a subset of machine learning which poses learning problems as interactions between agents and environments. It often assumes agents have no prior knowledge of a world, so they must learn to navigate environments by optimizing a reward function. Within an environment, an agent can take certain actions and receive feedback, in the form of positive or negative rewards, with respect to their decision. As such, an agent's feedback loop is somewhat akin to the idea of \"trial and error\", or the manner in which a child might learn to distinguish between \"good\" and \"bad\" actions.\n",
        "\n",
        "In practical terms, our RL agent will interact with the environment by taking an action at each timestep, receiving a corresponding reward, and updating its state according to what it has \"learned\".  \n",
        "\n",
        "![alt text](https://www.kdnuggets.com/images/reinforcement-learning-fig1-700.jpg)\n",
        "\n",
        "While the ultimate goal of reinforcement learning is to teach agents to act in the real, physical world, games provide a convenient proving ground for developing RL algorithms and agents. Games have some properties that make them particularly well suited for RL: \n",
        "\n",
        "1.   In many cases, games have perfectly describable environments. For example, all rules of chess can be formally written and programmed into a chess game simulator;\n",
        "2.   Games are massively parallelizable. Since they do not require running in the real world, simultaneous environments can be run on large data clusters; \n",
        "3.   Simpler scenarios in games enable fast prototyping. This speeds up the development of algorithms that could eventually run in the real-world; and\n",
        "4.   ... Games are fun! \n",
        "\n",
        "In previous labs, we have explored both supervised (with LSTMs, CNNs) and unsupervised / semi-supervised (with VAEs) learning tasks. Reinforcement learning is fundamentally different, in that we are training a deep learning algorithm to govern the actions of our RL agent, that is trying, within its environment, to find the optimal way to achieve a goal. The goal of training an RL agent is to determine the best next step to take to earn the greatest final payoff or return. In this lab, we focus on building a reinforcement learning algorithm to master two different environments with varying complexity. \n",
        "\n",
        "1.   **Cartpole**:   Balance a pole, protruding from a cart, in an upright position by only moving the base left or right. Environment with a low-dimensional observation space.\n",
        "2.   [**Pong**](https://en.wikipedia.org/wiki/Pong): Beat your competitors (whether other AI or humans!) at the game of Pong. Environment with a high-dimensional observation space -- learning directly from raw pixels.\n",
        "\n",
        "Let's get started! First we'll import TensorFlow, the course package, and some dependencies.\n"
      ]
    },
    {
      "cell_type": "code",
      "metadata": {
        "id": "EvdePP-VyVWp",
        "colab_type": "code",
        "colab": {
          "base_uri": "https://localhost:8080/",
          "height": 380
        },
        "outputId": "b2217203-e037-4563-d2f4-7a71e7a08231"
      },
      "source": [
        "!apt-get install -y xvfb python-opengl x11-utils > /dev/null 2>&1\n",
        "!pip install gym pyvirtualdisplay scikit-video > /dev/null 2>&1\n",
        "\n",
        "%tensorflow_version 2.x\n",
        "import tensorflow as tf\n",
        "\n",
        "import numpy as np\n",
        "import base64, io, time, gym\n",
        "import IPython, functools\n",
        "import matplotlib.pyplot as plt\n",
        "from tqdm import tqdm\n",
        "\n",
        "!pip install mitdeeplearning\n",
        "import mitdeeplearning as mdl"
      ],
      "execution_count": 1,
      "outputs": [
        {
          "output_type": "stream",
          "text": [
            "Collecting mitdeeplearning\n",
            "\u001b[?25l  Downloading https://files.pythonhosted.org/packages/8b/3b/b9174b68dc10832356d02a2d83a64b43a24f1762c172754407d22fc8f960/mitdeeplearning-0.1.2.tar.gz (2.1MB)\n",
            "\r\u001b[K     |▏                               | 10kB 29.3MB/s eta 0:00:01\r\u001b[K     |▎                               | 20kB 3.2MB/s eta 0:00:01\r\u001b[K     |▌                               | 30kB 4.2MB/s eta 0:00:01\r\u001b[K     |▋                               | 40kB 4.5MB/s eta 0:00:01\r\u001b[K     |▉                               | 51kB 3.7MB/s eta 0:00:01\r\u001b[K     |█                               | 61kB 4.1MB/s eta 0:00:01\r\u001b[K     |█                               | 71kB 4.5MB/s eta 0:00:01\r\u001b[K     |█▎                              | 81kB 4.9MB/s eta 0:00:01\r\u001b[K     |█▍                              | 92kB 5.3MB/s eta 0:00:01\r\u001b[K     |█▋                              | 102kB 5.0MB/s eta 0:00:01\r\u001b[K     |█▊                              | 112kB 5.0MB/s eta 0:00:01\r\u001b[K     |█▉                              | 122kB 5.0MB/s eta 0:00:01\r\u001b[K     |██                              | 133kB 5.0MB/s eta 0:00:01\r\u001b[K     |██▏                             | 143kB 5.0MB/s eta 0:00:01\r\u001b[K     |██▍                             | 153kB 5.0MB/s eta 0:00:01\r\u001b[K     |██▌                             | 163kB 5.0MB/s eta 0:00:01\r\u001b[K     |██▊                             | 174kB 5.0MB/s eta 0:00:01\r\u001b[K     |██▉                             | 184kB 5.0MB/s eta 0:00:01\r\u001b[K     |███                             | 194kB 5.0MB/s eta 0:00:01\r\u001b[K     |███▏                            | 204kB 5.0MB/s eta 0:00:01\r\u001b[K     |███▎                            | 215kB 5.0MB/s eta 0:00:01\r\u001b[K     |███▌                            | 225kB 5.0MB/s eta 0:00:01\r\u001b[K     |███▋                            | 235kB 5.0MB/s eta 0:00:01\r\u001b[K     |███▊                            | 245kB 5.0MB/s eta 0:00:01\r\u001b[K     |████                            | 256kB 5.0MB/s eta 0:00:01\r\u001b[K     |████                            | 266kB 5.0MB/s eta 0:00:01\r\u001b[K     |████▎                           | 276kB 5.0MB/s eta 0:00:01\r\u001b[K     |████▍                           | 286kB 5.0MB/s eta 0:00:01\r\u001b[K     |████▋                           | 296kB 5.0MB/s eta 0:00:01\r\u001b[K     |████▊                           | 307kB 5.0MB/s eta 0:00:01\r\u001b[K     |████▉                           | 317kB 5.0MB/s eta 0:00:01\r\u001b[K     |█████                           | 327kB 5.0MB/s eta 0:00:01\r\u001b[K     |█████▏                          | 337kB 5.0MB/s eta 0:00:01\r\u001b[K     |█████▍                          | 348kB 5.0MB/s eta 0:00:01\r\u001b[K     |█████▌                          | 358kB 5.0MB/s eta 0:00:01\r\u001b[K     |█████▋                          | 368kB 5.0MB/s eta 0:00:01\r\u001b[K     |█████▉                          | 378kB 5.0MB/s eta 0:00:01\r\u001b[K     |██████                          | 389kB 5.0MB/s eta 0:00:01\r\u001b[K     |██████▏                         | 399kB 5.0MB/s eta 0:00:01\r\u001b[K     |██████▎                         | 409kB 5.0MB/s eta 0:00:01\r\u001b[K     |██████▌                         | 419kB 5.0MB/s eta 0:00:01\r\u001b[K     |██████▋                         | 430kB 5.0MB/s eta 0:00:01\r\u001b[K     |██████▊                         | 440kB 5.0MB/s eta 0:00:01\r\u001b[K     |███████                         | 450kB 5.0MB/s eta 0:00:01\r\u001b[K     |███████                         | 460kB 5.0MB/s eta 0:00:01\r\u001b[K     |███████▎                        | 471kB 5.0MB/s eta 0:00:01\r\u001b[K     |███████▍                        | 481kB 5.0MB/s eta 0:00:01\r\u001b[K     |███████▌                        | 491kB 5.0MB/s eta 0:00:01\r\u001b[K     |███████▊                        | 501kB 5.0MB/s eta 0:00:01\r\u001b[K     |███████▉                        | 512kB 5.0MB/s eta 0:00:01\r\u001b[K     |████████                        | 522kB 5.0MB/s eta 0:00:01\r\u001b[K     |████████▏                       | 532kB 5.0MB/s eta 0:00:01\r\u001b[K     |████████▍                       | 542kB 5.0MB/s eta 0:00:01\r\u001b[K     |████████▌                       | 552kB 5.0MB/s eta 0:00:01\r\u001b[K     |████████▋                       | 563kB 5.0MB/s eta 0:00:01\r\u001b[K     |████████▉                       | 573kB 5.0MB/s eta 0:00:01\r\u001b[K     |█████████                       | 583kB 5.0MB/s eta 0:00:01\r\u001b[K     |█████████▏                      | 593kB 5.0MB/s eta 0:00:01\r\u001b[K     |█████████▎                      | 604kB 5.0MB/s eta 0:00:01\r\u001b[K     |█████████▍                      | 614kB 5.0MB/s eta 0:00:01\r\u001b[K     |█████████▋                      | 624kB 5.0MB/s eta 0:00:01\r\u001b[K     |█████████▊                      | 634kB 5.0MB/s eta 0:00:01\r\u001b[K     |██████████                      | 645kB 5.0MB/s eta 0:00:01\r\u001b[K     |██████████                      | 655kB 5.0MB/s eta 0:00:01\r\u001b[K     |██████████▎                     | 665kB 5.0MB/s eta 0:00:01\r\u001b[K     |██████████▍                     | 675kB 5.0MB/s eta 0:00:01\r\u001b[K     |██████████▌                     | 686kB 5.0MB/s eta 0:00:01\r\u001b[K     |██████████▊                     | 696kB 5.0MB/s eta 0:00:01\r\u001b[K     |██████████▉                     | 706kB 5.0MB/s eta 0:00:01\r\u001b[K     |███████████                     | 716kB 5.0MB/s eta 0:00:01\r\u001b[K     |███████████▏                    | 727kB 5.0MB/s eta 0:00:01\r\u001b[K     |███████████▎                    | 737kB 5.0MB/s eta 0:00:01\r\u001b[K     |███████████▌                    | 747kB 5.0MB/s eta 0:00:01\r\u001b[K     |███████████▋                    | 757kB 5.0MB/s eta 0:00:01\r\u001b[K     |███████████▉                    | 768kB 5.0MB/s eta 0:00:01\r\u001b[K     |████████████                    | 778kB 5.0MB/s eta 0:00:01\r\u001b[K     |████████████                    | 788kB 5.0MB/s eta 0:00:01\r\u001b[K     |████████████▎                   | 798kB 5.0MB/s eta 0:00:01\r\u001b[K     |████████████▍                   | 808kB 5.0MB/s eta 0:00:01\r\u001b[K     |████████████▋                   | 819kB 5.0MB/s eta 0:00:01\r\u001b[K     |████████████▊                   | 829kB 5.0MB/s eta 0:00:01\r\u001b[K     |█████████████                   | 839kB 5.0MB/s eta 0:00:01\r\u001b[K     |█████████████                   | 849kB 5.0MB/s eta 0:00:01\r\u001b[K     |█████████████▏                  | 860kB 5.0MB/s eta 0:00:01\r\u001b[K     |█████████████▍                  | 870kB 5.0MB/s eta 0:00:01\r\u001b[K     |█████████████▌                  | 880kB 5.0MB/s eta 0:00:01\r\u001b[K     |█████████████▊                  | 890kB 5.0MB/s eta 0:00:01\r\u001b[K     |█████████████▉                  | 901kB 5.0MB/s eta 0:00:01\r\u001b[K     |██████████████                  | 911kB 5.0MB/s eta 0:00:01\r\u001b[K     |██████████████▏                 | 921kB 5.0MB/s eta 0:00:01\r\u001b[K     |██████████████▎                 | 931kB 5.0MB/s eta 0:00:01\r\u001b[K     |██████████████▌                 | 942kB 5.0MB/s eta 0:00:01\r\u001b[K     |██████████████▋                 | 952kB 5.0MB/s eta 0:00:01\r\u001b[K     |██████████████▉                 | 962kB 5.0MB/s eta 0:00:01\r\u001b[K     |███████████████                 | 972kB 5.0MB/s eta 0:00:01\r\u001b[K     |███████████████                 | 983kB 5.0MB/s eta 0:00:01\r\u001b[K     |███████████████▎                | 993kB 5.0MB/s eta 0:00:01\r\u001b[K     |███████████████▍                | 1.0MB 5.0MB/s eta 0:00:01\r\u001b[K     |███████████████▋                | 1.0MB 5.0MB/s eta 0:00:01\r\u001b[K     |███████████████▊                | 1.0MB 5.0MB/s eta 0:00:01\r\u001b[K     |███████████████▉                | 1.0MB 5.0MB/s eta 0:00:01\r\u001b[K     |████████████████                | 1.0MB 5.0MB/s eta 0:00:01\r\u001b[K     |████████████████▏               | 1.1MB 5.0MB/s eta 0:00:01\r\u001b[K     |████████████████▍               | 1.1MB 5.0MB/s eta 0:00:01\r\u001b[K     |████████████████▌               | 1.1MB 5.0MB/s eta 0:00:01\r\u001b[K     |████████████████▊               | 1.1MB 5.0MB/s eta 0:00:01\r\u001b[K     |████████████████▉               | 1.1MB 5.0MB/s eta 0:00:01\r\u001b[K     |█████████████████               | 1.1MB 5.0MB/s eta 0:00:01\r\u001b[K     |█████████████████▏              | 1.1MB 5.0MB/s eta 0:00:01\r\u001b[K     |█████████████████▎              | 1.1MB 5.0MB/s eta 0:00:01\r\u001b[K     |█████████████████▌              | 1.1MB 5.0MB/s eta 0:00:01\r\u001b[K     |█████████████████▋              | 1.1MB 5.0MB/s eta 0:00:01\r\u001b[K     |█████████████████▊              | 1.2MB 5.0MB/s eta 0:00:01\r\u001b[K     |██████████████████              | 1.2MB 5.0MB/s eta 0:00:01\r\u001b[K     |██████████████████              | 1.2MB 5.0MB/s eta 0:00:01\r\u001b[K     |██████████████████▎             | 1.2MB 5.0MB/s eta 0:00:01\r\u001b[K     |██████████████████▍             | 1.2MB 5.0MB/s eta 0:00:01\r\u001b[K     |██████████████████▋             | 1.2MB 5.0MB/s eta 0:00:01\r\u001b[K     |██████████████████▊             | 1.2MB 5.0MB/s eta 0:00:01\r\u001b[K     |██████████████████▉             | 1.2MB 5.0MB/s eta 0:00:01\r\u001b[K     |███████████████████             | 1.2MB 5.0MB/s eta 0:00:01\r\u001b[K     |███████████████████▏            | 1.2MB 5.0MB/s eta 0:00:01\r\u001b[K     |███████████████████▍            | 1.3MB 5.0MB/s eta 0:00:01\r\u001b[K     |███████████████████▌            | 1.3MB 5.0MB/s eta 0:00:01\r\u001b[K     |███████████████████▋            | 1.3MB 5.0MB/s eta 0:00:01\r\u001b[K     |███████████████████▉            | 1.3MB 5.0MB/s eta 0:00:01\r\u001b[K     |████████████████████            | 1.3MB 5.0MB/s eta 0:00:01\r\u001b[K     |████████████████████▏           | 1.3MB 5.0MB/s eta 0:00:01\r\u001b[K     |████████████████████▎           | 1.3MB 5.0MB/s eta 0:00:01\r\u001b[K     |████████████████████▌           | 1.3MB 5.0MB/s eta 0:00:01\r\u001b[K     |████████████████████▋           | 1.3MB 5.0MB/s eta 0:00:01\r\u001b[K     |████████████████████▊           | 1.4MB 5.0MB/s eta 0:00:01\r\u001b[K     |█████████████████████           | 1.4MB 5.0MB/s eta 0:00:01\r\u001b[K     |█████████████████████           | 1.4MB 5.0MB/s eta 0:00:01\r\u001b[K     |█████████████████████▎          | 1.4MB 5.0MB/s eta 0:00:01\r\u001b[K     |█████████████████████▍          | 1.4MB 5.0MB/s eta 0:00:01\r\u001b[K     |█████████████████████▌          | 1.4MB 5.0MB/s eta 0:00:01\r\u001b[K     |█████████████████████▊          | 1.4MB 5.0MB/s eta 0:00:01\r\u001b[K     |█████████████████████▉          | 1.4MB 5.0MB/s eta 0:00:01\r\u001b[K     |██████████████████████          | 1.4MB 5.0MB/s eta 0:00:01\r\u001b[K     |██████████████████████▏         | 1.4MB 5.0MB/s eta 0:00:01\r\u001b[K     |██████████████████████▍         | 1.5MB 5.0MB/s eta 0:00:01\r\u001b[K     |██████████████████████▌         | 1.5MB 5.0MB/s eta 0:00:01\r\u001b[K     |██████████████████████▋         | 1.5MB 5.0MB/s eta 0:00:01\r\u001b[K     |██████████████████████▉         | 1.5MB 5.0MB/s eta 0:00:01\r\u001b[K     |███████████████████████         | 1.5MB 5.0MB/s eta 0:00:01\r\u001b[K     |███████████████████████▏        | 1.5MB 5.0MB/s eta 0:00:01\r\u001b[K     |███████████████████████▎        | 1.5MB 5.0MB/s eta 0:00:01\r\u001b[K     |███████████████████████▍        | 1.5MB 5.0MB/s eta 0:00:01\r\u001b[K     |███████████████████████▋        | 1.5MB 5.0MB/s eta 0:00:01\r\u001b[K     |███████████████████████▊        | 1.5MB 5.0MB/s eta 0:00:01\r\u001b[K     |████████████████████████        | 1.6MB 5.0MB/s eta 0:00:01\r\u001b[K     |████████████████████████        | 1.6MB 5.0MB/s eta 0:00:01\r\u001b[K     |████████████████████████▏       | 1.6MB 5.0MB/s eta 0:00:01\r\u001b[K     |████████████████████████▍       | 1.6MB 5.0MB/s eta 0:00:01\r\u001b[K     |████████████████████████▌       | 1.6MB 5.0MB/s eta 0:00:01\r\u001b[K     |████████████████████████▊       | 1.6MB 5.0MB/s eta 0:00:01\r\u001b[K     |████████████████████████▉       | 1.6MB 5.0MB/s eta 0:00:01\r\u001b[K     |█████████████████████████       | 1.6MB 5.0MB/s eta 0:00:01\r\u001b[K     |█████████████████████████▏      | 1.6MB 5.0MB/s eta 0:00:01\r\u001b[K     |█████████████████████████▎      | 1.6MB 5.0MB/s eta 0:00:01\r\u001b[K     |█████████████████████████▌      | 1.7MB 5.0MB/s eta 0:00:01\r\u001b[K     |█████████████████████████▋      | 1.7MB 5.0MB/s eta 0:00:01\r\u001b[K     |█████████████████████████▉      | 1.7MB 5.0MB/s eta 0:00:01\r\u001b[K     |██████████████████████████      | 1.7MB 5.0MB/s eta 0:00:01\r\u001b[K     |██████████████████████████      | 1.7MB 5.0MB/s eta 0:00:01\r\u001b[K     |██████████████████████████▎     | 1.7MB 5.0MB/s eta 0:00:01\r\u001b[K     |██████████████████████████▍     | 1.7MB 5.0MB/s eta 0:00:01\r\u001b[K     |██████████████████████████▋     | 1.7MB 5.0MB/s eta 0:00:01\r\u001b[K     |██████████████████████████▊     | 1.7MB 5.0MB/s eta 0:00:01\r\u001b[K     |███████████████████████████     | 1.8MB 5.0MB/s eta 0:00:01\r\u001b[K     |███████████████████████████     | 1.8MB 5.0MB/s eta 0:00:01\r\u001b[K     |███████████████████████████▏    | 1.8MB 5.0MB/s eta 0:00:01\r\u001b[K     |███████████████████████████▍    | 1.8MB 5.0MB/s eta 0:00:01\r\u001b[K     |███████████████████████████▌    | 1.8MB 5.0MB/s eta 0:00:01\r\u001b[K     |███████████████████████████▊    | 1.8MB 5.0MB/s eta 0:00:01\r\u001b[K     |███████████████████████████▉    | 1.8MB 5.0MB/s eta 0:00:01\r\u001b[K     |████████████████████████████    | 1.8MB 5.0MB/s eta 0:00:01\r\u001b[K     |████████████████████████████▏   | 1.8MB 5.0MB/s eta 0:00:01\r\u001b[K     |████████████████████████████▎   | 1.8MB 5.0MB/s eta 0:00:01\r\u001b[K     |████████████████████████████▌   | 1.9MB 5.0MB/s eta 0:00:01\r\u001b[K     |████████████████████████████▋   | 1.9MB 5.0MB/s eta 0:00:01\r\u001b[K     |████████████████████████████▉   | 1.9MB 5.0MB/s eta 0:00:01\r\u001b[K     |█████████████████████████████   | 1.9MB 5.0MB/s eta 0:00:01\r\u001b[K     |█████████████████████████████   | 1.9MB 5.0MB/s eta 0:00:01\r\u001b[K     |█████████████████████████████▎  | 1.9MB 5.0MB/s eta 0:00:01\r\u001b[K     |█████████████████████████████▍  | 1.9MB 5.0MB/s eta 0:00:01\r\u001b[K     |█████████████████████████████▋  | 1.9MB 5.0MB/s eta 0:00:01\r\u001b[K     |█████████████████████████████▊  | 1.9MB 5.0MB/s eta 0:00:01\r\u001b[K     |█████████████████████████████▉  | 1.9MB 5.0MB/s eta 0:00:01\r\u001b[K     |██████████████████████████████  | 2.0MB 5.0MB/s eta 0:00:01\r\u001b[K     |██████████████████████████████▏ | 2.0MB 5.0MB/s eta 0:00:01\r\u001b[K     |██████████████████████████████▍ | 2.0MB 5.0MB/s eta 0:00:01\r\u001b[K     |██████████████████████████████▌ | 2.0MB 5.0MB/s eta 0:00:01\r\u001b[K     |██████████████████████████████▊ | 2.0MB 5.0MB/s eta 0:00:01\r\u001b[K     |██████████████████████████████▉ | 2.0MB 5.0MB/s eta 0:00:01\r\u001b[K     |███████████████████████████████ | 2.0MB 5.0MB/s eta 0:00:01\r\u001b[K     |███████████████████████████████▏| 2.0MB 5.0MB/s eta 0:00:01\r\u001b[K     |███████████████████████████████▎| 2.0MB 5.0MB/s eta 0:00:01\r\u001b[K     |███████████████████████████████▌| 2.0MB 5.0MB/s eta 0:00:01\r\u001b[K     |███████████████████████████████▋| 2.1MB 5.0MB/s eta 0:00:01\r\u001b[K     |███████████████████████████████▊| 2.1MB 5.0MB/s eta 0:00:01\r\u001b[K     |████████████████████████████████| 2.1MB 5.0MB/s eta 0:00:01\r\u001b[K     |████████████████████████████████| 2.1MB 5.0MB/s \n",
            "\u001b[?25hRequirement already satisfied: numpy in /usr/local/lib/python3.6/dist-packages (from mitdeeplearning) (1.18.5)\n",
            "Requirement already satisfied: regex in /usr/local/lib/python3.6/dist-packages (from mitdeeplearning) (2019.12.20)\n",
            "Requirement already satisfied: tqdm in /usr/local/lib/python3.6/dist-packages (from mitdeeplearning) (4.41.1)\n",
            "Requirement already satisfied: gym in /usr/local/lib/python3.6/dist-packages (from mitdeeplearning) (0.17.2)\n",
            "Requirement already satisfied: pyglet<=1.5.0,>=1.4.0 in /usr/local/lib/python3.6/dist-packages (from gym->mitdeeplearning) (1.5.0)\n",
            "Requirement already satisfied: scipy in /usr/local/lib/python3.6/dist-packages (from gym->mitdeeplearning) (1.4.1)\n",
            "Requirement already satisfied: cloudpickle<1.4.0,>=1.2.0 in /usr/local/lib/python3.6/dist-packages (from gym->mitdeeplearning) (1.3.0)\n",
            "Requirement already satisfied: future in /usr/local/lib/python3.6/dist-packages (from pyglet<=1.5.0,>=1.4.0->gym->mitdeeplearning) (0.16.0)\n",
            "Building wheels for collected packages: mitdeeplearning\n",
            "  Building wheel for mitdeeplearning (setup.py) ... \u001b[?25l\u001b[?25hdone\n",
            "  Created wheel for mitdeeplearning: filename=mitdeeplearning-0.1.2-cp36-none-any.whl size=2114585 sha256=fe48622b66edefc975f73f584eca668e3f441a5dba772c05184716fb04b9a024\n",
            "  Stored in directory: /root/.cache/pip/wheels/27/e1/73/5f01c787621d8a3c857f59876c79e304b9b64db9ff5bd61b74\n",
            "Successfully built mitdeeplearning\n",
            "Installing collected packages: mitdeeplearning\n",
            "Successfully installed mitdeeplearning-0.1.2\n"
          ],
          "name": "stdout"
        }
      ]
    },
    {
      "cell_type": "markdown",
      "metadata": {
        "id": "zmrHSiXKTXTY",
        "colab_type": "text"
      },
      "source": [
        "Before we dive in, let's take a step back and outline our approach, which is generally applicable to reinforcement learning problems in general:\n",
        "\n",
        "1. **Initialize our environment and our agent**: here we will describe the different observations and actions the agent can make in the environment.\n",
        "2. **Define our agent's memory**: this will enable the agent to remember its past actions, observations, and rewards.\n",
        "3. **Define a reward function**: describes the reward associated with an action or sequence of actions.\n",
        "4. **Define the learning algorithm**: this will be used to reinforce the agent's good behaviors and discourage bad behaviors.\n"
      ]
    },
    {
      "cell_type": "markdown",
      "metadata": {
        "id": "UT7YL8KBJIIc",
        "colab_type": "text"
      },
      "source": [
        "# Part 1: Cartpole\n",
        "\n",
        "## 3.1 Define the Cartpole environment and agent\n",
        "\n",
        "### Environment \n",
        "\n",
        "In order to model the environment for both the Cartpole and Pong tasks, we'll be using a toolkit developed by OpenAI called [OpenAI Gym](https://gym.openai.com/). It provides several pre-defined environments for training and testing reinforcement learning agents, including those for classic physics control tasks, Atari video games, and robotic simulations. To access the Cartpole environment, we can use `env = gym.make(\"CartPole-v0\")`, which we gained access to when we imported the `gym` package. We can instantiate different [environments](https://gym.openai.com/envs/#classic_control) by passing the enivronment name to the `make` function.\n",
        "\n",
        "One issue we might experience when developing RL algorithms is that many aspects of the learning process are inherently random: initializing game states, changes in the environment, and the agent's actions. As such, it can be helpful to set a initial \"seed\" for the environment to ensure some level of reproducibility. Much like you might use `numpy.random.seed`, we can call the comparable function in gym, `seed`, with our defined environment to ensure the environment's random variables are initialized the same each time."
      ]
    },
    {
      "cell_type": "code",
      "metadata": {
        "id": "quv9SC0iIYFm",
        "colab_type": "code",
        "colab": {
          "base_uri": "https://localhost:8080/",
          "height": 36
        },
        "outputId": "8699b9c9-7b07-4e64-f1ca-ca543c0af905"
      },
      "source": [
        "### Instantiate the Cartpole environment ###\n",
        "\n",
        "env = gym.make(\"CartPole-v0\")\n",
        "env.seed(1)"
      ],
      "execution_count": 3,
      "outputs": [
        {
          "output_type": "execute_result",
          "data": {
            "text/plain": [
              "[1]"
            ]
          },
          "metadata": {
            "tags": []
          },
          "execution_count": 3
        }
      ]
    },
    {
      "cell_type": "markdown",
      "metadata": {
        "id": "mhEITUcKK455",
        "colab_type": "text"
      },
      "source": [
        "In Cartpole, a pole is attached by an un-actuated joint to a cart, which moves along a frictionless track. The pole starts upright, and the goal is to prevent it from falling over. The system is controlled by applying a force of +1 or -1 to the cart. A reward of +1 is provided for every timestep that the pole remains upright. The episode ends when the pole is more than 15 degrees from vertical, or the cart moves more than 2.4 units from the center of the track. A visual summary of the cartpole environment is depicted below:\n",
        "\n",
        "<img width=\"400px\" src=\"https://danielpiedrahita.files.wordpress.com/2017/02/cart-pole.png\"></img>\n",
        "\n",
        "Given this setup for the environment and the objective of the game, we can think about: 1) what observations help define the environment's state; 2) what actions the agent can take. \n",
        "\n",
        "First, let's consider the observation space. In this Cartpole environment our observations are:\n",
        "\n",
        "1. Cart position\n",
        "2. Cart velocity\n",
        "3. Pole angle\n",
        "4. Pole rotation rate\n",
        "\n",
        "We can confirm the size of the space by querying the environment's observation space:\n"
      ]
    },
    {
      "cell_type": "code",
      "metadata": {
        "id": "UVJaEcbdIX82",
        "colab_type": "code",
        "colab": {
          "base_uri": "https://localhost:8080/",
          "height": 36
        },
        "outputId": "3250e5da-dd74-492d-a7db-8b7b07afbc81"
      },
      "source": [
        "n_observations = env.observation_space\n",
        "print(\"Environment has observation space =\", n_observations)"
      ],
      "execution_count": 4,
      "outputs": [
        {
          "output_type": "stream",
          "text": [
            "Environment has observation space = Box(4,)\n"
          ],
          "name": "stdout"
        }
      ]
    },
    {
      "cell_type": "markdown",
      "metadata": {
        "id": "ZibGgjrALgPM",
        "colab_type": "text"
      },
      "source": [
        "Second, we consider the action space. At every time step, the agent can move either right or left. Again we can confirm the size of the action space by querying the environment:"
      ]
    },
    {
      "cell_type": "code",
      "metadata": {
        "id": "qc9SIPxBIXrm",
        "colab_type": "code",
        "colab": {
          "base_uri": "https://localhost:8080/",
          "height": 36
        },
        "outputId": "81c6b172-acac-4855-dc8f-4cf55c27d0a7"
      },
      "source": [
        "n_actions = env.action_space.n\n",
        "print(\"Number of possible actions that the agent can choose from =\", n_actions)"
      ],
      "execution_count": 5,
      "outputs": [
        {
          "output_type": "stream",
          "text": [
            "Number of possible actions that the agent can choose from = 2\n"
          ],
          "name": "stdout"
        }
      ]
    },
    {
      "cell_type": "markdown",
      "metadata": {
        "id": "pPfHME8aRKkb",
        "colab_type": "text"
      },
      "source": [
        "### Cartpole agent\n",
        "\n",
        "Now that we have instantiated the environment and understood the dimensionality of the observation and action spaces, we are ready to define our agent. In deep reinforcement learning, a deep neural network defines the agent. This network will take as input an observation of the environment and output the probability of taking each of the possible actions. Since Cartpole is defined by a low-dimensional observation space, a simple feed-forward neural network should work well for our agent. We will define this using the `Sequential` API.\n"
      ]
    },
    {
      "cell_type": "code",
      "metadata": {
        "id": "W-o_XK4oQ4eu",
        "colab_type": "code",
        "colab": {}
      },
      "source": [
        "### Define the Cartpole agent ###\n",
        "\n",
        "# Defines a feed-forward neural network\n",
        "def create_cartpole_model():\n",
        "  model = tf.keras.models.Sequential([\n",
        "      # First Dense layer\n",
        "      tf.keras.layers.Dense(units=32, activation='relu'),\n",
        "\n",
        "      # TODO: Define the last Dense layer, which will provide the network's output.\n",
        "      # Think about the space the agent needs to act in!\n",
        "      tf.keras.layers.Dense(units=2,activation=None)\n",
        "  ])\n",
        "  return model\n",
        "\n",
        "cartpole_model = create_cartpole_model()"
      ],
      "execution_count": 2,
      "outputs": []
    },
    {
      "cell_type": "markdown",
      "metadata": {
        "id": "d5D5NSIYS2IW",
        "colab_type": "text"
      },
      "source": [
        "Now that we have defined the core network architecture, we will define an *action function* that executes a forward pass through the network, given a set of observations, and samples from the output. This sampling from the output probabilities will be used to select the next action for the agent. \n",
        "\n",
        "**Critically, this action function is totally general -- we will use this function for both Cartpole and Pong, and it is applicable to other RL tasks, as well!**"
      ]
    },
    {
      "cell_type": "code",
      "metadata": {
        "id": "E_vVZRr8Q4R_",
        "colab_type": "code",
        "colab": {}
      },
      "source": [
        "### Define the agent's action function ###\n",
        "\n",
        "# Function that takes observations as input, executes a forward pass through model, \n",
        "#   and outputs a sampled action.\n",
        "# Arguments:\n",
        "#   model: the network that defines our agent\n",
        "#   observation: observation which is fed as input to the model\n",
        "# Returns:\n",
        "#   action: choice of agent action\n",
        "def choose_action(model, observation):\n",
        "  # add batch dimension to the observation\n",
        "  observation = np.expand_dims(observation, axis=0)\n",
        "\n",
        "  '''TODO: feed the observations through the model to predict the log probabilities of each possible action.'''\n",
        "  logits = model.predict(observation)\n",
        "  \n",
        "  # pass the log probabilities through a softmax to compute true probabilities\n",
        "  prob_weights = tf.nn.softmax(logits).numpy()\n",
        "  \n",
        "  '''TODO: randomly sample from the prob_weights to pick an action.\n",
        "  Hint: carefully consider the dimensionality of the input probabilities (vector) and the output action (scalar)'''\n",
        "  action = np.random.choice(n_actions, size=1, p=prob_weights.flatten())[0]\n",
        "\n",
        "  return action"
      ],
      "execution_count": 2,
      "outputs": []
    },
    {
      "cell_type": "markdown",
      "metadata": {
        "id": "_tR9uAWcTnkr",
        "colab_type": "text"
      },
      "source": [
        "## 3.2 Define the agent's memory\n",
        "\n",
        "Now that we have instantiated the environment and defined the agent network architecture and action function, we are ready to move on to the next step in our RL workflow:\n",
        "1. **Initialize our environment and our agent**: here we will describe the different observations and actions the agent can make in the environment.\n",
        "2. **Define our agent's memory**: this will enable the agent to remember its past actions, observations, and rewards.\n",
        "3. **Define the learning algorithm**: this will be used to reinforce the agent's good behaviors and discourage bad behaviors.\n",
        "\n",
        "In reinforcement learning, training occurs alongside the agent's acting in the environment; an *episode* refers to a sequence of actions that ends in some terminal state, such as the pole falling down or the cart crashing. The agent will need to remember all of its observations and actions, such that once an episode ends, it can learn to \"reinforce\" the good actions and punish the undesirable actions via training. Our first step is to define a simple memory buffer that contains the agent's observations, actions, and received rewards from a given episode. \n",
        "\n",
        "**Once again, note the modularity of this memory buffer -- it can and will be applied to other RL tasks as well!**"
      ]
    },
    {
      "cell_type": "code",
      "metadata": {
        "id": "8MM6JwXVQ4JG",
        "colab_type": "code",
        "colab": {}
      },
      "source": [
        "### Agent Memory ###\n",
        "\n",
        "class Memory:\n",
        "  def __init__(self): \n",
        "      self.clear()\n",
        "\n",
        "  # Resets/restarts the memory buffer\n",
        "  def clear(self): \n",
        "      self.observations = []\n",
        "      self.actions = []\n",
        "      self.rewards = []\n",
        "\n",
        "  # Add observations, actions, rewards to memory\n",
        "  def add_to_memory(self, new_observation, new_action, new_reward): \n",
        "      self.observations.append(new_observation)\n",
        "      '''TODO: update the list of actions with new action'''\n",
        "      # TODO: your update code here\n",
        "      self.actions.append(new_action)\n",
        "      '''TODO: update the list of rewards with new reward'''\n",
        "      # TODO: your update code here\n",
        "      self.rewards.append(new_reward)\n",
        "        \n",
        "memory = Memory()"
      ],
      "execution_count": 3,
      "outputs": []
    },
    {
      "cell_type": "markdown",
      "metadata": {
        "id": "D4YhtPaUVj5m",
        "colab_type": "text"
      },
      "source": [
        "## 3.3 Reward function\n",
        "\n",
        "We're almost ready to begin the learning algorithm for our agent! The next step is to compute the rewards of our agent as it acts in the environment. Since we (and the agent) is uncertain about if and when the game or task will end (i.e., when the pole will fall), it is useful to emphasize getting rewards **now** rather than later in the future -- this is the idea of discounting. This is a similar concept to discounting money in the case of interest. recall from lecture, we use reward discount to give more preference at getting rewards now rather than later in the future. The idea of discounting rewards is similar to discounting money in the case of interest.\n",
        "\n",
        "To compute the expected cumulative reward, known as the **return**, at a given timestep in a learning episode, we sum the discounted rewards expected at that time step $t$, within a learning episode, and projecting into the future. We define the return (cumulative reward) at a time step $t$, $R_{t}$ as:\n",
        "\n",
        ">$R_{t}=\\sum_{k=0}^\\infty\\gamma^kr_{t+k}$\n",
        "\n",
        "where  $0 < \\gamma < 1$ is the discount factor and $r_{t}$ is the reward at time step $t$, and the index $k$ increments projection into the future within a single learning episode. Intuitively, you can think of this function as depreciating any rewards received at later time steps, which will force the agent prioritize getting rewards now. Since we can't extend episodes to infinity, in practice the computation will be limited to the number of timesteps in an episode -- after that the reward is assumed to be zero.\n",
        "\n",
        "Take note of the form of this sum -- we'll have to be clever about how we implement this function. Specifically, we'll need to initialize an array of zeros, with length of the number of time steps, and fill it with the real discounted reward values as we loop through the rewards from the episode, which will have been saved in the agents memory. What we ultimately care about is which actions are better relative to other actions taken in that episode -- so, we'll normalize our computed rewards, using the mean and standard deviation of the rewards across the learning episode.\n"
      ]
    },
    {
      "cell_type": "code",
      "metadata": {
        "id": "5_Q2OFYtQ32X",
        "colab_type": "code",
        "colab": {}
      },
      "source": [
        "### Reward function ###\n",
        "\n",
        "# Helper function that normalizes an np.array x\n",
        "def normalize(x):\n",
        "  x -= np.mean(x)\n",
        "  x /= np.std(x)\n",
        "  return x.astype(np.float32)\n",
        "\n",
        "# Compute normalized, discounted, cumulative rewards (i.e., return)\n",
        "# Arguments:\n",
        "#   rewards: reward at timesteps in episode\n",
        "#   gamma: discounting factor\n",
        "# Returns:\n",
        "#   normalized discounted reward\n",
        "def discount_rewards(rewards, gamma=0.95): \n",
        "  discounted_rewards = np.zeros_like(rewards)\n",
        "  R = 0\n",
        "  for t in reversed(range(0, len(rewards))):\n",
        "      # update the total discounted reward\n",
        "      R = R * gamma + rewards[t]\n",
        "      discounted_rewards[t] = R\n",
        "      \n",
        "  return normalize(discounted_rewards)"
      ],
      "execution_count": 4,
      "outputs": []
    },
    {
      "cell_type": "markdown",
      "metadata": {
        "id": "QzbY-mjGYcmt",
        "colab_type": "text"
      },
      "source": [
        "## 3.4 Learning algorithm\n",
        "\n",
        "Now we can start to define the learing algorithm which will be used to reinforce good behaviors of the agent and discourage bad behaviours. In this lab, we will focus on *policy gradient* methods which aim to **maximize** the likelihood of actions that result in large rewards. Equivalently, this means that we want to **minimize** the negative likelihood of these same actions. We achieve this by simply **scaling** the probabilities by their associated rewards -- effectively amplifying the likelihood of actions that result in large rewards.\n",
        "\n",
        "Since the log function is monotonically increasing, this means that minimizing **negative likelihood** is equivalent to minimizing **negative log-likelihood**.  Recall that we can easily compute the negative log-likelihood of a discrete action by evaluting its [softmax cross entropy](https://www.tensorflow.org/api_docs/python/tf/nn/sparse_softmax_cross_entropy_with_logits). Like in supervised learning, we can use stochastic gradient descent methods to achieve the desired minimization. \n",
        "\n",
        "Let's begin by defining the loss function."
      ]
    },
    {
      "cell_type": "code",
      "metadata": {
        "id": "fsgZ3IDCY_Zn",
        "colab_type": "code",
        "colab": {}
      },
      "source": [
        "### Loss function ###\n",
        "\n",
        "# Arguments:\n",
        "#   logits: network's predictions for actions to take\n",
        "#   actions: the actions the agent took in an episode\n",
        "#   rewards: the rewards the agent received in an episode\n",
        "# Returns:\n",
        "#   loss\n",
        "def compute_loss(logits, actions, rewards): \n",
        "  '''TODO: complete the function call to compute the negative log probabilities'''\n",
        "  neg_logprob = tf.nn.sparse_softmax_cross_entropy_with_logits(logits=logits, labels=actions)\n",
        "  \n",
        "  '''TODO: scale the negative log probability by the rewards'''\n",
        "  loss = tf.reduce_mean(neg_logprob*rewards)\n",
        "  return loss"
      ],
      "execution_count": 5,
      "outputs": []
    },
    {
      "cell_type": "markdown",
      "metadata": {
        "id": "Rr5vQ9fqbPpp",
        "colab_type": "text"
      },
      "source": [
        "Now let's use the loss function to define a training step of our learning algorithm:"
      ]
    },
    {
      "cell_type": "code",
      "metadata": {
        "id": "_50ada7nbZ7L",
        "colab_type": "code",
        "colab": {}
      },
      "source": [
        "### Training step (forward and backpropagation) ###\n",
        "\n",
        "def train_step(model, optimizer, observations, actions, discounted_rewards):\n",
        "  with tf.GradientTape() as tape:\n",
        "      # Forward propagate through the agent network\n",
        "      logits = model(observations)\n",
        "\n",
        "      '''TODO: call the compute_loss function to compute the loss'''\n",
        "      loss = compute_loss(logits,actions,discounted_rewards)\n",
        "\n",
        "  '''TODO: run backpropagation to minimize the loss using the tape.gradient method.\n",
        "      Use `model.trainable_variables`'''\n",
        "  grads = tape.gradient(loss, model.trainable_variables)\n",
        "  optimizer.apply_gradients(zip(grads, model.trainable_variables))\n"
      ],
      "execution_count": 6,
      "outputs": []
    },
    {
      "cell_type": "markdown",
      "metadata": {
        "id": "XsjKXh6BcgjR",
        "colab_type": "text"
      },
      "source": [
        "## 3.5 Run cartpole!\n",
        "\n",
        "Having had no prior knowledge of the environment, the agent will begin to learn how to balance the pole on the cart based only on the feedback received from the environment! Having defined how our agent can move, how it takes in new observations, and how it updates its state, we'll see how it gradually learns a policy of actions to optimize balancing the pole as long as possible. To do this, we'll track how the rewards evolve as a function of training -- how should the rewards change as training progresses?"
      ]
    },
    {
      "cell_type": "code",
      "metadata": {
        "id": "XmOzc2rrcn8Q",
        "colab_type": "code",
        "colab": {
          "base_uri": "https://localhost:8080/",
          "height": 541
        },
        "outputId": "fb79c24b-bb86-4c58-8297-605c5759b640"
      },
      "source": [
        "### Cartpole training! ###\n",
        "\n",
        "# Learning rate and optimizer\n",
        "learning_rate = 1e-3\n",
        "optimizer = tf.keras.optimizers.Adam(learning_rate)\n",
        "\n",
        "# instantiate cartpole agent\n",
        "cartpole_model = create_cartpole_model()\n",
        "\n",
        "# to track our progress\n",
        "smoothed_reward = mdl.util.LossHistory(smoothing_factor=0.9)\n",
        "plotter = mdl.util.PeriodicPlotter(sec=2, xlabel='Iterations', ylabel='Rewards')\n",
        "\n",
        "if hasattr(tqdm, '_instances'): tqdm._instances.clear() # clear if it exists\n",
        "for i_episode in range(500):\n",
        "\n",
        "  plotter.plot(smoothed_reward.get())\n",
        "\n",
        "  # Restart the environment\n",
        "  observation = env.reset()\n",
        "  memory.clear()\n",
        "\n",
        "  while True:\n",
        "      # using our observation, choose an action and take it in the environment\n",
        "      action = choose_action(cartpole_model, observation)\n",
        "      next_observation, reward, done, info = env.step(action)\n",
        "      # add to memory\n",
        "      memory.add_to_memory(observation, action, reward)\n",
        "      \n",
        "      # is the episode over? did you crash or do so well that you're done?\n",
        "      if done:\n",
        "          # determine total reward and keep a record of this\n",
        "          total_reward = sum(memory.rewards)\n",
        "          smoothed_reward.append(total_reward)\n",
        "          \n",
        "          # initiate training - remember we don't know anything about how the \n",
        "          #   agent is doing until it has crashed!\n",
        "          train_step(cartpole_model, optimizer, \n",
        "                     observations=np.vstack(memory.observations),\n",
        "                     actions=np.array(memory.actions),\n",
        "                     discounted_rewards = discount_rewards(memory.rewards))\n",
        "          \n",
        "          # reset the memory\n",
        "          memory.clear()\n",
        "          break\n",
        "      # update our observatons\n",
        "      observation = next_observation"
      ],
      "execution_count": 14,
      "outputs": [
        {
          "output_type": "display_data",
          "data": {
            "image/png": "[encoded data removed]",
            "text/plain": [
              "<Figure size 432x288 with 1 Axes>"
            ]
          },
          "metadata": {
            "tags": []
          }
        },
        {
          "output_type": "display_data",
          "data": {
            "image/png": "[encoded data removed]",
            "text/plain": [
              "<Figure size 432x288 with 1 Axes>"
            ]
          },
          "metadata": {
            "tags": [],
            "needs_background": "light"
          }
        }
      ]
    },
    {
      "cell_type": "markdown",
      "metadata": {
        "id": "mkcUtGF1VE-K",
        "colab_type": "text"
      },
      "source": [
        "To get a sense of how our agent did, we can save a video of the trained model working on balancing the pole. Realize that this is a brand new environment that the agent has not seen before!\n",
        "\n",
        "Let's display the saved video to watch how our agent did!\n"
      ]
    },
    {
      "cell_type": "code",
      "metadata": {
        "id": "PAYBkv6Zbk0J",
        "colab_type": "code",
        "colab": {
          "base_uri": "https://localhost:8080/",
          "height": 440
        },
        "outputId": "f35471d2-36ec-4b75-f344-b839b8d92f4c"
      },
      "source": [
        "saved_cartpole = mdl.lab3.save_video_of_model(cartpole_model, \"CartPole-v0\")\n",
        "mdl.lab3.play_video(saved_cartpole)"
      ],
      "execution_count": 17,
      "outputs": [
        {
          "output_type": "stream",
          "text": [
            "Successfully saved 50 frames into CartPole-v0.mp4!\n"
          ],
          "name": "stdout"
        },
        {
          "output_type": "execute_result",
          "data": {
            "text/html": [
              "\n",
              "        <video controls>\n",
              "            <source src=\"data:video/mp4;base64,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\" type=\"video/mp4\" />\n",
              "        </video>"
            ],
            "text/plain": [
              "<IPython.core.display.HTML object>"
            ]
          },
          "metadata": {
            "tags": []
          },
          "execution_count": 17
        }
      ]
    },
    {
      "cell_type": "markdown",
      "metadata": {
        "id": "CSbVNDpaVb3_",
        "colab_type": "text"
      },
      "source": [
        "How does the agent perform? Could you train it for shorter amounts of time and still perform well? Do you think that training longer would help even more? "
      ]
    },
    {
      "cell_type": "markdown",
      "metadata": {
        "id": "Eu6Mqxc720ST",
        "colab_type": "text"
      },
      "source": [
        "#Part 2: Pong\n",
        "\n",
        "In Cartpole, we dealt with an environment that was static -- in other words, it didn't change over time. What happens if our environment is dynamic and unpredictable? Well that's exactly the case in [Pong](https://en.wikipedia.org/wiki/Pong), since part of the environment is the opposing player. We don't know how our opponent will act or react to our actions, so the complexity of our problem increases. It also becomes much more interesting, since we can compete to beat our opponent. RL provides a powerful framework for training AI systems with the ability to handle and interact with dynamic, unpredictable environments. In this part of the lab, we'll use the tools and workflow we explored in Part 1 to build an RL agent capable of playing the game of Pong.\n"
      ]
    },
    {
      "cell_type": "markdown",
      "metadata": {
        "id": "srZ4YE29isuA",
        "colab_type": "text"
      },
      "source": [
        "## 3.6 Define and inspect the Pong environment\n",
        "\n",
        "As with Cartpole, we'll instantiate the Pong environment in the OpenAI gym, using a seed of 1."
      ]
    },
    {
      "cell_type": "code",
      "metadata": {
        "id": "lbYHLr66i15n",
        "colab_type": "code",
        "colab": {}
      },
      "source": [
        "env = gym.make(\"Pong-v0\", frameskip=5)\n",
        "env.seed(1); # for reproducibility"
      ],
      "execution_count": 7,
      "outputs": []
    },
    {
      "cell_type": "markdown",
      "metadata": {
        "id": "52uZ2Xhyi-MW",
        "colab_type": "text"
      },
      "source": [
        "Let's next consider the observation space for the Pong environment. Instead of four physical descriptors of the cart-pole setup, in the case of Pong our observations are the individual video frames (i.e., images) that depict the state of the board. Thus, the observations are 210x160 RGB images (arrays of shape (210,160,3)).\n",
        "\n",
        "We can again confirm the size of the observation space by query:"
      ]
    },
    {
      "cell_type": "code",
      "metadata": {
        "id": "0yX4GWvxjnHS",
        "colab_type": "code",
        "colab": {
          "base_uri": "https://localhost:8080/",
          "height": 36
        },
        "outputId": "8c709860-5803-4eeb-eed1-bb761ff18b52"
      },
      "source": [
        "print(\"Environment has observation space =\", env.observation_space)"
      ],
      "execution_count": 9,
      "outputs": [
        {
          "output_type": "stream",
          "text": [
            "Environment has observation space = Box(210, 160, 3)\n"
          ],
          "name": "stdout"
        }
      ]
    },
    {
      "cell_type": "markdown",
      "metadata": {
        "id": "uuEC2TdSjx9D",
        "colab_type": "text"
      },
      "source": [
        "In Pong, at every time step, the agent (which controls the paddle) has six actions to choose from: no-op (no operation), move right, move left, fire, fire right, and fire left. Let's confirm the size of the action space by querying the environment:"
      ]
    },
    {
      "cell_type": "code",
      "metadata": {
        "id": "Iuy9oPc1kag3",
        "colab_type": "code",
        "colab": {
          "base_uri": "https://localhost:8080/",
          "height": 36
        },
        "outputId": "c20deb53-4a0a-4744-b66a-4cf6abc8f0a3"
      },
      "source": [
        "n_actions = env.action_space.n\n",
        "print(\"Number of possible actions that the agent can choose from =\", n_actions)"
      ],
      "execution_count": 11,
      "outputs": [
        {
          "output_type": "stream",
          "text": [
            "Number of possible actions that the agent can choose from = 6\n"
          ],
          "name": "stdout"
        }
      ]
    },
    {
      "cell_type": "markdown",
      "metadata": {
        "id": "9-fghDRigUE5",
        "colab_type": "text"
      },
      "source": [
        "## 3.7 Define the Pong agent\n",
        "\n",
        "As before, we'll use a neural network to define our agent. What network architecture do you think would be especially well suited to this game? Since our observations are now in the form of images, we'll add convolutional layers to the network to increase the learning capacity of our network."
      ]
    },
    {
      "cell_type": "code",
      "metadata": {
        "id": "IJiqbFYpgYRH",
        "colab_type": "code",
        "colab": {}
      },
      "source": [
        "### Define the Pong agent ###\n",
        "\n",
        "# Functionally define layers for convenience\n",
        "# All convolutional layers will have ReLu activation\n",
        "Conv2D = functools.partial(tf.keras.layers.Conv2D, padding='same', activation='relu')\n",
        "Flatten = tf.keras.layers.Flatten\n",
        "Dense = tf.keras.layers.Dense\n",
        "\n",
        "# Defines a CNN for the Pong agent\n",
        "def create_pong_model():\n",
        "  model = tf.keras.models.Sequential([\n",
        "    # Convolutional layers\n",
        "    # First, 16 7x7 filters with 4x4 stride\n",
        "    Conv2D(filters=16, kernel_size=7, strides=4),\n",
        "\n",
        "    # TODO: define convolutional layers with 32 5x5 filters and 2x2 stride\n",
        "    Conv2D(filters=32,kernel_size=5,strides=2),\n",
        "\n",
        "    # TODO: define convolutional layers with 48 3x3 filters and 2x2 stride\n",
        "    Conv2D(filters=48,kernel_size=3,strides=2),\n",
        "\n",
        "    Flatten(),\n",
        "    \n",
        "    # Fully connected layer and output\n",
        "    Dense(units=64, activation='relu'),\n",
        "    # TODO: define the output dimension of the last Dense layer. \n",
        "    # Pay attention to the space the agent needs to act in\n",
        "    Dense(units=n_actions, activation=None)\n",
        "  \n",
        "  ])\n",
        "  return model\n",
        "\n",
        "pong_model = create_pong_model()"
      ],
      "execution_count": 24,
      "outputs": []
    },
    {
      "cell_type": "markdown",
      "metadata": {
        "id": "yaeZ067olFiJ",
        "colab_type": "text"
      },
      "source": [
        "Since we've already defined the action function, `choose_action(model, observation)`, we don't need to define it again. Instead, we'll be able to reuse it later on by passing in our new model we've just created, `pong_model`. This is awesome because our action function provides a modular and generalizable method for all sorts of RL agents!"
      ]
    },
    {
      "cell_type": "markdown",
      "metadata": {
        "id": "l0RvqOVkmc2r",
        "colab_type": "text"
      },
      "source": [
        "## 3.8 Pong-specific functions\n",
        "\n",
        "In Part 1 (Cartpole), we implemented some key functions and classes to build and train our RL agent -- `choose_action(model, observation)` and the `Memory` class, for example. However, in getting ready to apply these to a new game like Pong, we might need to make some slight modifications. \n",
        "\n",
        "Namely, we need to think about what happens when a game ends. In Pong, we know a game has ended if the reward is +1 (we won!) or -1 (we lost unfortunately). Otherwise, we expect the reward at a timestep to be zero -- the players (or agents) are just playing eachother. So, after a game ends, we will need to reset the reward to zero when a game ends. This will result in a modified reward function."
      ]
    },
    {
      "cell_type": "code",
      "metadata": {
        "id": "iEZG2o50luLu",
        "colab_type": "code",
        "colab": {}
      },
      "source": [
        "### Pong reward function ###\n",
        "\n",
        "# Compute normalized, discounted rewards for Pong (i.e., return)\n",
        "# Arguments:\n",
        "#   rewards: reward at timesteps in episode\n",
        "#   gamma: discounting factor. Note increase to 0.99 -- rate of depreciation will be slower.\n",
        "# Returns:\n",
        "#   normalized discounted reward\n",
        "def discount_rewards_p(rewards, gamma=0.99): \n",
        "  discounted_rewards = np.zeros_like(rewards)\n",
        "  R = 0\n",
        "  for t in reversed(range(0, len(rewards))):\n",
        "      # NEW: Reset the sum if the reward is not 0 (the game has ended!)\n",
        "      if rewards[t] != 0:\n",
        "        R = 0\n",
        "      # update the total discounted reward as before\n",
        "      R = R * gamma + rewards[t]\n",
        "      discounted_rewards[t] = R\n",
        "      \n",
        "  return normalize(discounted_rewards)"
      ],
      "execution_count": 28,
      "outputs": []
    },
    {
      "cell_type": "markdown",
      "metadata": {
        "id": "HopLpb4IoOqA",
        "colab_type": "text"
      },
      "source": [
        "Additionally, we have to consider the nature of the observations in the Pong environment, and how they will be fed into our network. Our observations in this case are images. Before we input an image into our network, we'll do a bit of pre-processing to crop and scale, clean up the background colors to a single color, and set the important game elements to a single color. Let's use this function to visualize what an observation might look like before and after pre-processing."
      ]
    },
    {
      "cell_type": "code",
      "metadata": {
        "id": "no5IIYtFm8pI",
        "colab_type": "code",
        "colab": {
          "base_uri": "https://localhost:8080/",
          "height": 227
        },
        "outputId": "3634731a-0ad0-4844-d275-84bb3e802439"
      },
      "source": [
        "observation = env.reset()\n",
        "for i in range(30):\n",
        "  observation, _,_,_ = env.step(0)\n",
        "observation_pp = mdl.lab3.preprocess_pong(observation)\n",
        "\n",
        "f = plt.figure(figsize=(10,3))\n",
        "ax = f.add_subplot(121)\n",
        "ax2 = f.add_subplot(122)\n",
        "ax.imshow(observation); ax.grid(False);\n",
        "ax2.imshow(np.squeeze(observation_pp)); ax2.grid(False); plt.title('Preprocessed Observation');"
      ],
      "execution_count": 26,
      "outputs": [
        {
          "output_type": "display_data",
          "data": {
            "image/png": "[encoded data removed]",
            "text/plain": [
              "<Figure size 720x216 with 2 Axes>"
            ]
          },
          "metadata": {
            "tags": [],
            "needs_background": "light"
          }
        }
      ]
    },
    {
      "cell_type": "markdown",
      "metadata": {
        "id": "bYwIWC-Cz8F2",
        "colab_type": "text"
      },
      "source": [
        "What do you notice? How might these changes be important for training our RL algorithm?"
      ]
    },
    {
      "cell_type": "markdown",
      "metadata": {
        "id": "mRqcaDQ1pm3x",
        "colab_type": "text"
      },
      "source": [
        "## 3.9 Training Pong\n",
        "\n",
        "We're now all set up to start training our RL algorithm and agent for the game of Pong! We've already defined our loss function with `compute_loss`, which employs policy gradient learning, as well as our backpropagation step with `train_step` which is beautiful! We will use these functions to execute training the Pong agent. Let's walk through the training block.\n",
        "\n",
        "In Pong, rather than feeding our network one image at a time, it can actually improve performance to input the difference between two consecutive observations, which really gives us information about the movement between frames -- how the game is changing. We'll first pre-process the raw observation, `x`, and then we'll compute the difference with the image frame we saw one timestep before. \n",
        "\n",
        "This observation change will be forward propagated through our Pong agent, the CNN network model, which will then predict the next action to take based on this observation. The raw reward will be computed, and the observation, action, and reward will be recorded into memory. This will continue until a training episode, i.e., a game, ends.\n",
        "\n",
        "Then, we will compute the discounted rewards, and use this information to execute a training step. Memory will be cleared, and we will do it all over again!\n",
        "\n",
        "Let's run the code block to train our Pong agent. Note that completing training will take quite a bit of time (estimated at least a couple of hours). We will again visualize the evolution of the total reward as a function of training to get a sense of how the agent is learning."
      ]
    },
    {
      "cell_type": "code",
      "metadata": {
        "id": "xCwyQQrPnkZG",
        "colab_type": "code",
        "colab": {
          "base_uri": "https://localhost:8080/",
          "height": 945
        },
        "outputId": "4652cdc3-e71c-4efb-b42b-b5a9999702fb"
      },
      "source": [
        "### Training Pong ###\n",
        "\n",
        "# Hyperparameters\n",
        "learning_rate=1e-4\n",
        "MAX_ITERS = 10000 # increase the maximum number of episodes, since Pong is more complex!\n",
        "\n",
        "# Model and optimizer\n",
        "pong_model = create_pong_model()\n",
        "optimizer = tf.keras.optimizers.Adam(learning_rate)\n",
        "\n",
        "# plotting\n",
        "smoothed_reward = mdl.util.LossHistory(smoothing_factor=0.9)\n",
        "plotter = mdl.util.PeriodicPlotter(sec=5, xlabel='Iterations', ylabel='Rewards')\n",
        "memory = Memory()\n",
        "\n",
        "for i_episode in range(MAX_ITERS):\n",
        "\n",
        "  plotter.plot(smoothed_reward.get())\n",
        "\n",
        "  # Restart the environment\n",
        "  observation = env.reset()\n",
        "  previous_frame = mdl.lab3.preprocess_pong(observation)\n",
        "\n",
        "  while True:\n",
        "      # Pre-process image \n",
        "      current_frame = mdl.lab3.preprocess_pong(observation)\n",
        "      \n",
        "      '''TODO: determine the observation change\n",
        "      Hint: this is the difference between the past two frames'''\n",
        "      obs_change = current_frame-previous_frame\n",
        "      \n",
        "      '''TODO: choose an action for the pong model, using the frame difference, and evaluate'''\n",
        "      action = choose_action(pong_model,obs_change)\n",
        "      # Take the chosen action\n",
        "      next_observation, reward, done, info = env.step(action)\n",
        "\n",
        "      '''TODO: save the observed frame difference, the action that was taken, and the resulting reward!'''\n",
        "      memory.add_to_memory(obs_change,action,reward)\n",
        "      \n",
        "      # is the episode over? did you crash or do so well that you're done?\n",
        "      if done:\n",
        "          # determine total reward and keep a record of this\n",
        "          total_reward = sum(memory.rewards)\n",
        "          smoothed_reward.append( total_reward )\n",
        "\n",
        "          # begin training\n",
        "          train_step(pong_model, \n",
        "                     optimizer, \n",
        "                     observations = np.stack(memory.observations, 0), \n",
        "                     actions = np.array(memory.actions),\n",
        "                     discounted_rewards = discount_rewards_p(memory.rewards))\n",
        "          \n",
        "          memory.clear()\n",
        "          break\n",
        "\n",
        "      observation = next_observation\n",
        "      previous_frame = current_frame"
      ],
      "execution_count": 30,
      "outputs": [
        {
          "output_type": "display_data",
          "data": {
            "image/png": "[encoded data removed]",
            "text/plain": [
              "<Figure size 432x288 with 1 Axes>"
            ]
          },
          "metadata": {
            "tags": []
          }
        },
        {
          "output_type": "error",
          "ename": "KeyboardInterrupt",
          "evalue": "ignored",
          "traceback": [
            "\u001b[0;31m---------------------------------------------------------------------------\u001b[0m",
            "\u001b[0;31mKeyboardInterrupt\u001b[0m                         Traceback (most recent call last)",
            "\u001b[0;32m<ipython-input-30-500c70062e9b>\u001b[0m in \u001b[0;36m<module>\u001b[0;34m()\u001b[0m\n\u001b[1;32m     31\u001b[0m \u001b[0;34m\u001b[0m\u001b[0m\n\u001b[1;32m     32\u001b[0m       \u001b[0;34m'''TODO: choose an action for the pong model, using the frame difference, and evaluate'''\u001b[0m\u001b[0;34m\u001b[0m\u001b[0;34m\u001b[0m\u001b[0m\n\u001b[0;32m---> 33\u001b[0;31m       \u001b[0maction\u001b[0m \u001b[0;34m=\u001b[0m \u001b[0mchoose_action\u001b[0m\u001b[0;34m(\u001b[0m\u001b[0mpong_model\u001b[0m\u001b[0;34m,\u001b[0m\u001b[0mobs_change\u001b[0m\u001b[0;34m)\u001b[0m\u001b[0;34m\u001b[0m\u001b[0;34m\u001b[0m\u001b[0m\n\u001b[0m\u001b[1;32m     34\u001b[0m       \u001b[0;31m# Take the chosen action\u001b[0m\u001b[0;34m\u001b[0m\u001b[0;34m\u001b[0m\u001b[0;34m\u001b[0m\u001b[0m\n\u001b[1;32m     35\u001b[0m       \u001b[0mnext_observation\u001b[0m\u001b[0;34m,\u001b[0m \u001b[0mreward\u001b[0m\u001b[0;34m,\u001b[0m \u001b[0mdone\u001b[0m\u001b[0;34m,\u001b[0m \u001b[0minfo\u001b[0m \u001b[0;34m=\u001b[0m \u001b[0menv\u001b[0m\u001b[0;34m.\u001b[0m\u001b[0mstep\u001b[0m\u001b[0;34m(\u001b[0m\u001b[0maction\u001b[0m\u001b[0;34m)\u001b[0m\u001b[0;34m\u001b[0m\u001b[0;34m\u001b[0m\u001b[0m\n",
            "\u001b[0;32m<ipython-input-2-4bb4b7e58fc6>\u001b[0m in \u001b[0;36mchoose_action\u001b[0;34m(model, observation)\u001b[0m\n\u001b[1;32m     13\u001b[0m \u001b[0;34m\u001b[0m\u001b[0m\n\u001b[1;32m     14\u001b[0m   \u001b[0;34m'''TODO: feed the observations through the model to predict the log probabilities of each possible action.'''\u001b[0m\u001b[0;34m\u001b[0m\u001b[0;34m\u001b[0m\u001b[0m\n\u001b[0;32m---> 15\u001b[0;31m   \u001b[0mlogits\u001b[0m \u001b[0;34m=\u001b[0m \u001b[0mmodel\u001b[0m\u001b[0;34m.\u001b[0m\u001b[0mpredict\u001b[0m\u001b[0;34m(\u001b[0m\u001b[0mobservation\u001b[0m\u001b[0;34m)\u001b[0m\u001b[0;34m\u001b[0m\u001b[0;34m\u001b[0m\u001b[0m\n\u001b[0m\u001b[1;32m     16\u001b[0m \u001b[0;34m\u001b[0m\u001b[0m\n\u001b[1;32m     17\u001b[0m   \u001b[0;31m# pass the log probabilities through a softmax to compute true probabilities\u001b[0m\u001b[0;34m\u001b[0m\u001b[0;34m\u001b[0m\u001b[0;34m\u001b[0m\u001b[0m\n",
            "\u001b[0;32m/usr/local/lib/python3.6/dist-packages/tensorflow/python/keras/engine/training.py\u001b[0m in \u001b[0;36m_method_wrapper\u001b[0;34m(self, *args, **kwargs)\u001b[0m\n\u001b[1;32m    128\u001b[0m       raise ValueError('{} is not supported in multi-worker mode.'.format(\n\u001b[1;32m    129\u001b[0m           method.__name__))\n\u001b[0;32m--> 130\u001b[0;31m     \u001b[0;32mreturn\u001b[0m \u001b[0mmethod\u001b[0m\u001b[0;34m(\u001b[0m\u001b[0mself\u001b[0m\u001b[0;34m,\u001b[0m \u001b[0;34m*\u001b[0m\u001b[0margs\u001b[0m\u001b[0;34m,\u001b[0m \u001b[0;34m**\u001b[0m\u001b[0mkwargs\u001b[0m\u001b[0;34m)\u001b[0m\u001b[0;34m\u001b[0m\u001b[0;34m\u001b[0m\u001b[0m\n\u001b[0m\u001b[1;32m    131\u001b[0m \u001b[0;34m\u001b[0m\u001b[0m\n\u001b[1;32m    132\u001b[0m   return tf_decorator.make_decorator(\n",
            "\u001b[0;32m/usr/local/lib/python3.6/dist-packages/tensorflow/python/keras/engine/training.py\u001b[0m in \u001b[0;36mpredict\u001b[0;34m(self, x, batch_size, verbose, steps, callbacks, max_queue_size, workers, use_multiprocessing)\u001b[0m\n\u001b[1;32m   1593\u001b[0m       \u001b[0mself\u001b[0m\u001b[0;34m.\u001b[0m\u001b[0m_predict_counter\u001b[0m\u001b[0;34m.\u001b[0m\u001b[0massign\u001b[0m\u001b[0;34m(\u001b[0m\u001b[0;36m0\u001b[0m\u001b[0;34m)\u001b[0m\u001b[0;34m\u001b[0m\u001b[0;34m\u001b[0m\u001b[0m\n\u001b[1;32m   1594\u001b[0m       \u001b[0mcallbacks\u001b[0m\u001b[0;34m.\u001b[0m\u001b[0mon_predict_begin\u001b[0m\u001b[0;34m(\u001b[0m\u001b[0;34m)\u001b[0m\u001b[0;34m\u001b[0m\u001b[0;34m\u001b[0m\u001b[0m\n\u001b[0;32m-> 1595\u001b[0;31m       \u001b[0;32mfor\u001b[0m \u001b[0m_\u001b[0m\u001b[0;34m,\u001b[0m \u001b[0miterator\u001b[0m \u001b[0;32min\u001b[0m \u001b[0mdata_handler\u001b[0m\u001b[0;34m.\u001b[0m\u001b[0menumerate_epochs\u001b[0m\u001b[0;34m(\u001b[0m\u001b[0;34m)\u001b[0m\u001b[0;34m:\u001b[0m  \u001b[0;31m# Single epoch.\u001b[0m\u001b[0;34m\u001b[0m\u001b[0;34m\u001b[0m\u001b[0m\n\u001b[0m\u001b[1;32m   1596\u001b[0m         \u001b[0;32mwith\u001b[0m \u001b[0mdata_handler\u001b[0m\u001b[0;34m.\u001b[0m\u001b[0mcatch_stop_iteration\u001b[0m\u001b[0;34m(\u001b[0m\u001b[0;34m)\u001b[0m\u001b[0;34m:\u001b[0m\u001b[0;34m\u001b[0m\u001b[0;34m\u001b[0m\u001b[0m\n\u001b[1;32m   1597\u001b[0m           \u001b[0;32mfor\u001b[0m \u001b[0mstep\u001b[0m \u001b[0;32min\u001b[0m \u001b[0mdata_handler\u001b[0m\u001b[0;34m.\u001b[0m\u001b[0msteps\u001b[0m\u001b[0;34m(\u001b[0m\u001b[0;34m)\u001b[0m\u001b[0;34m:\u001b[0m\u001b[0;34m\u001b[0m\u001b[0;34m\u001b[0m\u001b[0m\n",
            "\u001b[0;32m/usr/local/lib/python3.6/dist-packages/tensorflow/python/keras/engine/data_adapter.py\u001b[0m in \u001b[0;36menumerate_epochs\u001b[0;34m(self)\u001b[0m\n\u001b[1;32m   1136\u001b[0m     \u001b[0;34m\"\"\"Yields `(epoch, tf.data.Iterator)`.\"\"\"\u001b[0m\u001b[0;34m\u001b[0m\u001b[0;34m\u001b[0m\u001b[0m\n\u001b[1;32m   1137\u001b[0m     \u001b[0;32mwith\u001b[0m \u001b[0mself\u001b[0m\u001b[0;34m.\u001b[0m\u001b[0m_truncate_execution_to_epoch\u001b[0m\u001b[0;34m(\u001b[0m\u001b[0;34m)\u001b[0m\u001b[0;34m:\u001b[0m\u001b[0;34m\u001b[0m\u001b[0;34m\u001b[0m\u001b[0m\n\u001b[0;32m-> 1138\u001b[0;31m       \u001b[0mdata_iterator\u001b[0m \u001b[0;34m=\u001b[0m \u001b[0miter\u001b[0m\u001b[0;34m(\u001b[0m\u001b[0mself\u001b[0m\u001b[0;34m.\u001b[0m\u001b[0m_dataset\u001b[0m\u001b[0;34m)\u001b[0m\u001b[0;34m\u001b[0m\u001b[0;34m\u001b[0m\u001b[0m\n\u001b[0m\u001b[1;32m   1139\u001b[0m       \u001b[0;32mfor\u001b[0m \u001b[0mepoch\u001b[0m \u001b[0;32min\u001b[0m \u001b[0mrange\u001b[0m\u001b[0;34m(\u001b[0m\u001b[0mself\u001b[0m\u001b[0;34m.\u001b[0m\u001b[0m_initial_epoch\u001b[0m\u001b[0;34m,\u001b[0m \u001b[0mself\u001b[0m\u001b[0;34m.\u001b[0m\u001b[0m_epochs\u001b[0m\u001b[0;34m)\u001b[0m\u001b[0;34m:\u001b[0m\u001b[0;34m\u001b[0m\u001b[0;34m\u001b[0m\u001b[0m\n\u001b[1;32m   1140\u001b[0m         \u001b[0;32mif\u001b[0m \u001b[0mself\u001b[0m\u001b[0;34m.\u001b[0m\u001b[0m_insufficient_data\u001b[0m\u001b[0;34m:\u001b[0m  \u001b[0;31m# Set by `catch_stop_iteration`.\u001b[0m\u001b[0;34m\u001b[0m\u001b[0;34m\u001b[0m\u001b[0m\n",
            "\u001b[0;32m/usr/local/lib/python3.6/dist-packages/tensorflow/python/data/ops/dataset_ops.py\u001b[0m in \u001b[0;36m__iter__\u001b[0;34m(self)\u001b[0m\n\u001b[1;32m    413\u001b[0m     \"\"\"\n\u001b[1;32m    414\u001b[0m     \u001b[0;32mif\u001b[0m \u001b[0mcontext\u001b[0m\u001b[0;34m.\u001b[0m\u001b[0mexecuting_eagerly\u001b[0m\u001b[0;34m(\u001b[0m\u001b[0;34m)\u001b[0m \u001b[0;32mor\u001b[0m \u001b[0mops\u001b[0m\u001b[0;34m.\u001b[0m\u001b[0minside_function\u001b[0m\u001b[0;34m(\u001b[0m\u001b[0;34m)\u001b[0m\u001b[0;34m:\u001b[0m\u001b[0;34m\u001b[0m\u001b[0;34m\u001b[0m\u001b[0m\n\u001b[0;32m--> 415\u001b[0;31m       \u001b[0;32mreturn\u001b[0m \u001b[0miterator_ops\u001b[0m\u001b[0;34m.\u001b[0m\u001b[0mOwnedIterator\u001b[0m\u001b[0;34m(\u001b[0m\u001b[0mself\u001b[0m\u001b[0;34m)\u001b[0m\u001b[0;34m\u001b[0m\u001b[0;34m\u001b[0m\u001b[0m\n\u001b[0m\u001b[1;32m    416\u001b[0m     \u001b[0;32melse\u001b[0m\u001b[0;34m:\u001b[0m\u001b[0;34m\u001b[0m\u001b[0;34m\u001b[0m\u001b[0m\n\u001b[1;32m    417\u001b[0m       raise RuntimeError(\"__iter__() is only supported inside of tf.function \"\n",
            "\u001b[0;32m/usr/local/lib/python3.6/dist-packages/tensorflow/python/data/ops/iterator_ops.py\u001b[0m in \u001b[0;36m__init__\u001b[0;34m(self, dataset, components, element_spec, job_token)\u001b[0m\n\u001b[1;32m    694\u001b[0m           context.context().device_spec.device_type != \"CPU\"):\n\u001b[1;32m    695\u001b[0m         \u001b[0;32mwith\u001b[0m \u001b[0mops\u001b[0m\u001b[0;34m.\u001b[0m\u001b[0mdevice\u001b[0m\u001b[0;34m(\u001b[0m\u001b[0;34m\"/cpu:0\"\u001b[0m\u001b[0;34m)\u001b[0m\u001b[0;34m:\u001b[0m\u001b[0;34m\u001b[0m\u001b[0;34m\u001b[0m\u001b[0m\n\u001b[0;32m--> 696\u001b[0;31m           \u001b[0mself\u001b[0m\u001b[0;34m.\u001b[0m\u001b[0m_create_iterator\u001b[0m\u001b[0;34m(\u001b[0m\u001b[0mdataset\u001b[0m\u001b[0;34m)\u001b[0m\u001b[0;34m\u001b[0m\u001b[0;34m\u001b[0m\u001b[0m\n\u001b[0m\u001b[1;32m    697\u001b[0m       \u001b[0;32melse\u001b[0m\u001b[0;34m:\u001b[0m\u001b[0;34m\u001b[0m\u001b[0;34m\u001b[0m\u001b[0m\n\u001b[1;32m    698\u001b[0m         \u001b[0mself\u001b[0m\u001b[0;34m.\u001b[0m\u001b[0m_create_iterator\u001b[0m\u001b[0;34m(\u001b[0m\u001b[0mdataset\u001b[0m\u001b[0;34m)\u001b[0m\u001b[0;34m\u001b[0m\u001b[0;34m\u001b[0m\u001b[0m\n",
            "\u001b[0;32m/usr/local/lib/python3.6/dist-packages/tensorflow/python/data/ops/iterator_ops.py\u001b[0m in \u001b[0;36m_create_iterator\u001b[0;34m(self, dataset)\u001b[0m\n\u001b[1;32m    720\u001b[0m               output_shapes=self._flat_output_shapes))\n\u001b[1;32m    721\u001b[0m       \u001b[0;32mif\u001b[0m \u001b[0mself\u001b[0m\u001b[0;34m.\u001b[0m\u001b[0m_job_token\u001b[0m \u001b[0;32mis\u001b[0m \u001b[0;32mNone\u001b[0m\u001b[0;34m:\u001b[0m\u001b[0;34m\u001b[0m\u001b[0;34m\u001b[0m\u001b[0m\n\u001b[0;32m--> 722\u001b[0;31m         \u001b[0mgen_dataset_ops\u001b[0m\u001b[0;34m.\u001b[0m\u001b[0mmake_iterator\u001b[0m\u001b[0;34m(\u001b[0m\u001b[0mds_variant\u001b[0m\u001b[0;34m,\u001b[0m \u001b[0mself\u001b[0m\u001b[0;34m.\u001b[0m\u001b[0m_iterator_resource\u001b[0m\u001b[0;34m)\u001b[0m\u001b[0;34m\u001b[0m\u001b[0;34m\u001b[0m\u001b[0m\n\u001b[0m\u001b[1;32m    723\u001b[0m       \u001b[0;32melse\u001b[0m\u001b[0;34m:\u001b[0m\u001b[0;34m\u001b[0m\u001b[0;34m\u001b[0m\u001b[0m\n\u001b[1;32m    724\u001b[0m         gen_experimental_dataset_ops.make_data_service_iterator(\n",
            "\u001b[0;32m/usr/local/lib/python3.6/dist-packages/tensorflow/python/ops/gen_dataset_ops.py\u001b[0m in \u001b[0;36mmake_iterator\u001b[0;34m(dataset, iterator, name)\u001b[0m\n\u001b[1;32m   3005\u001b[0m       _result = pywrap_tfe.TFE_Py_FastPathExecute(\n\u001b[1;32m   3006\u001b[0m         \u001b[0m_ctx\u001b[0m\u001b[0;34m.\u001b[0m\u001b[0m_context_handle\u001b[0m\u001b[0;34m,\u001b[0m \u001b[0mtld\u001b[0m\u001b[0;34m.\u001b[0m\u001b[0mdevice_name\u001b[0m\u001b[0;34m,\u001b[0m \u001b[0;34m\"MakeIterator\"\u001b[0m\u001b[0;34m,\u001b[0m \u001b[0mname\u001b[0m\u001b[0;34m,\u001b[0m\u001b[0;34m\u001b[0m\u001b[0;34m\u001b[0m\u001b[0m\n\u001b[0;32m-> 3007\u001b[0;31m         tld.op_callbacks, dataset, iterator)\n\u001b[0m\u001b[1;32m   3008\u001b[0m       \u001b[0;32mreturn\u001b[0m \u001b[0m_result\u001b[0m\u001b[0;34m\u001b[0m\u001b[0;34m\u001b[0m\u001b[0m\n\u001b[1;32m   3009\u001b[0m     \u001b[0;32mexcept\u001b[0m \u001b[0m_core\u001b[0m\u001b[0;34m.\u001b[0m\u001b[0m_NotOkStatusException\u001b[0m \u001b[0;32mas\u001b[0m \u001b[0me\u001b[0m\u001b[0;34m:\u001b[0m\u001b[0;34m\u001b[0m\u001b[0;34m\u001b[0m\u001b[0m\n",
            "\u001b[0;31mKeyboardInterrupt\u001b[0m: "
          ]
        },
        {
          "output_type": "display_data",
          "data": {
            "image/png": "[encoded data removed]",
            "text/plain": [
              "<Figure size 432x288 with 1 Axes>"
            ]
          },
          "metadata": {
            "tags": [],
            "needs_background": "light"
          }
        }
      ]
    },
    {
      "cell_type": "markdown",
      "metadata": {
        "id": "8LiEY5Y_ts-Z",
        "colab_type": "text"
      },
      "source": [
        "Finally we can put our trained agent to the test! It will play in a newly instantiated Pong environment against the \"computer\", a base AI system for Pong. Your agent plays as the green paddle. Let's watch the match instant replay!"
      ]
    },
    {
      "cell_type": "code",
      "metadata": {
        "id": "TvHXbkL0tR6M",
        "colab_type": "code",
        "colab": {}
      },
      "source": [
        "saved_pong = mdl.lab3.save_video_of_model(\n",
        "    pong_model, \"Pong-v0\", obs_diff=True, \n",
        "    pp_fn=mdl.lab3.preprocess_pong)\n",
        "mdl.lab3.play_video(saved_pong)"
      ],
      "execution_count": null,
      "outputs": []
    },
    {
      "cell_type": "markdown",
      "metadata": {
        "id": "TIlwIgBP3Js6",
        "colab_type": "text"
      },
      "source": [
        "## 3.10 Conclusion\n",
        "\n",
        "That's it! Congratulations on training two RL agents and putting them to the test! We encourage you to consider the following:\n",
        "\n",
        "*   How does the agent perform?\n",
        "*   Could you train it for shorter amounts of time  and still perform well?\n",
        "*   Do you think that training longer would help even more? \n",
        "* How does the complexity of Pong relative to Cartpole alter the rate at which the agent learns and its performance? \n",
        "* What are some things you could change about the agent or the learning process to potentially improve performance?\n",
        "\n",
        "If you want to go further, try to optimize your model to achieve the best performance! **[Email us](mailto:introtodeeplearning-staff@mit.edu) a copy of your notebook with the Pong training executed AND a saved video of your Pong agent competing! We'll give out prizes to the best performers!**"
      ]
    },
    {
      "cell_type": "markdown",
      "metadata": {
        "id": "-3bPtjtBG4qM",
        "colab_type": "text"
      },
      "source": [
        "***Finished!!***\n"
      ]
    }
  ]
}